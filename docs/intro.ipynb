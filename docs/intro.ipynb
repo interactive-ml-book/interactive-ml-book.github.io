{
 "cells": [
  {
   "cell_type": "markdown",
   "id": "908a785e-fb98-4d83-88d4-046c0e384f63",
   "metadata": {},
   "source": [
    "# Interactive Data Structures and Algorithms book\n",
    "\n",
    "This book started as a way to track my progress while learning Data Structures and Algorithms.\n",
    "\n",
    "```{admonition} Why learn from here?\n",
    ":class: tip\n",
    "\n",
    "✅ **In-Browser Live Coding**: Jump straight into coding without the hassle of installations. Click on the {fa}`rocket` icon --> \"Live Code\", and instantly access a coding workspace within your browser, tailored to fortify your understanding of data structures and algorithms.\n",
    "\n",
    "✅ **Advanced Visualizations**: Our platform takes learning a step further with [Manim CE](https://www.manim.community/), offering in-browser, interactive visualizations. This allows not just to view but also to manipulate and test algorithms with new test cases, offering a deeper understanding through dynamic, visual learning.\n",
    "\n",
    "✅ **Interactive Algorithm Testing**: We go beyond static visualizations. Test and visualize new algorithms or modify existing ones with custom test cases directly within your browser, making complex concepts more accessible and understandable.\n",
    "\n",
    "✅ **Unified Learning Platform**: We integrate live coding exercises with comprehensive learning materials, ensuring a seamless blend of theory and practical application.\n",
    "```\n",
    "\n",
    "## Testing the \"Live Code\" feature\n",
    "\n",
    "Hit the {fa}`rocket` icon on the top of the page, then click \"Live Code\". Maximize your understanding of Data Structures and Algorithms through hands-on practice. Edit and execute code cells in real-time using the \"Run\" button or \"Shift+Enter\". Below is a quick intro to the \"Live Code\" feature."
   ]
  },
  {
   "cell_type": "code",
   "execution_count": 1,
   "id": "f6d1962e-d5df-44bf-a739-56af9d59c119",
   "metadata": {},
   "outputs": [
    {
     "name": "stdout",
     "output_type": "stream",
     "text": [
      "[1, 2, 3, 4, 5, 6]\n",
      "Hello World!\n"
     ]
    }
   ],
   "source": [
    "arr = [1,2,3,4,5,6]\n",
    "print(arr)\n",
    "print(\"Hello World!\")"
   ]
  },
  {
   "cell_type": "code",
   "execution_count": 2,
   "id": "88bc963e-959b-4f67-876c-ab323a55f4b5",
   "metadata": {},
   "outputs": [
    {
     "data": {
      "text/html": [
       "\n",
       "        <div style=\"width: 100%;\">\n",
       "          <video width=\"100%\" controls>\n",
       "              <source src=\"_static/videos\\Logo.mp4\" type=\"video/mp4\">\n",
       "              Your browser does not support the video tag.\n",
       "          </video>\n",
       "        </div>\n",
       "        "
      ],
      "text/plain": [
       "<IPython.core.display.HTML object>"
      ]
     },
     "metadata": {},
     "output_type": "display_data"
    }
   ],
   "source": [
    "from manim_utils.logo import Logo\n",
    "from render_utils import render_scene_with_quality, render_local\n",
    "quality = \"-qh\"\n",
    "render_scene_with_quality(Logo, quality)"
   ]
  },
  {
   "cell_type": "code",
   "execution_count": null,
   "id": "4256b086",
   "metadata": {},
   "outputs": [],
   "source": []
  }
 ],
 "metadata": {
  "kernelspec": {
   "display_name": "Python 3 (ipykernel)",
   "language": "python",
   "name": "python3"
  },
  "language_info": {
   "codemirror_mode": {
    "name": "ipython",
    "version": 3
   },
   "file_extension": ".py",
   "mimetype": "text/x-python",
   "name": "python",
   "nbconvert_exporter": "python",
   "pygments_lexer": "ipython3",
   "version": "3.9.0"
  }
 },
 "nbformat": 4,
 "nbformat_minor": 5
}
