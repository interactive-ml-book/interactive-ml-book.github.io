{
 "cells": [
  {
   "cell_type": "markdown",
   "metadata": {},
   "source": [
    "# Website To-Do List\n",
    "\n",
    "&#x2610; Content for CSE Workshop on \"Training ML models: Tips and Tricks\", 2024 at UB.\n",
    "\n",
    "&#x2610; Optimize MyBinder launch time ([reference](https://discourse.jupyter.org/t/how-to-reduce-mybinder-org-repository-startup-time/4956))\n",
    "\n",
    "&#x2610; Introduction to Machine Learning\n",
    "\n",
    " - &#x2610; What exactly is the need for Machine Learning?\n",
    " - &#x2610; What is the origin of Machine Learning?\n",
    " - &#x2610; Internal Mathematics of Machine Learning\n",
    " - &#x2610; How Machine Learning makes use of Math Optimization Algorithms.\n",
    " - &#x2610; Is every ML problem an optimization problem?\n",
    " - &#x2610; Curve fitting need, examples and traditional math solutions.\n",
    " - &#x2610; Use of ML for curve fitting in the form or linear regression, multi-variate regression.\n",
    " \n",
    "&#x2610; Different types of Machine Learning \n",
    "\n",
    "&#x2610; Supervised Machine Learning (from a mathematician's lens)\n"
   ]
  },
  {
   "cell_type": "markdown",
   "metadata": {},
   "source": []
  }
 ],
 "metadata": {
  "language_info": {
   "name": "python"
  }
 },
 "nbformat": 4,
 "nbformat_minor": 2
}
