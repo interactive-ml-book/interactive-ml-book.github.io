{
 "cells": [
  {
   "cell_type": "markdown",
   "metadata": {},
   "source": [
    "# \"Training ML models: Tips & Tricks\" workshop at UB, SUNY\n",
    "\n",
    "I am honored to be invited to present at the CSE workshops at UB. This webpage contains all the resources/material for my talk at UB.\n",
    "\n",
    "## Quick intro to Machine Learning\n",
    "\n",
    "My research experience has led me to appreciate the true essence of ML which encompasses mathematical concepts including statistics, probability, calculus, linear algebra, and optimization.\n",
    "\n",
    "At its core, machine learning employs mathematical functions to model the relationships between inputs and outputs. These functions can range from simple linear equations to complex neural networks. The choice of function and how it is adjusted (or learned) during training depends on the algorithm being used and the specific problem being addressed."
   ]
  },
  {
   "cell_type": "markdown",
   "metadata": {},
   "source": []
  }
 ],
 "metadata": {
  "language_info": {
   "name": "python"
  }
 },
 "nbformat": 4,
 "nbformat_minor": 2
}
